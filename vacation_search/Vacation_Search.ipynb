{
 "cells": [
  {
   "cell_type": "markdown",
   "metadata": {},
   "source": [
    "## Deliverable 2. Create a Customer Travel Destinations Map."
   ]
  },
  {
   "cell_type": "code",
   "execution_count": 1,
   "metadata": {},
   "outputs": [],
   "source": [
    "# Dependencies and Setup\n",
    "import pandas as pd\n",
    "import requests\n",
    "import gmaps\n",
    "\n",
    "# Import API key\n",
    "from config import gmaps_api_key\n",
    "\n",
    "# Configure gmaps API key\n",
    "gmaps.configure(api_key=gmaps_api_key)"
   ]
  },
  {
   "cell_type": "code",
   "execution_count": 2,
   "metadata": {},
   "outputs": [
    {
     "data": {
      "text/html": [
       "<div>\n",
       "<style scoped>\n",
       "    .dataframe tbody tr th:only-of-type {\n",
       "        vertical-align: middle;\n",
       "    }\n",
       "\n",
       "    .dataframe tbody tr th {\n",
       "        vertical-align: top;\n",
       "    }\n",
       "\n",
       "    .dataframe thead th {\n",
       "        text-align: right;\n",
       "    }\n",
       "</style>\n",
       "<table border=\"1\" class=\"dataframe\">\n",
       "  <thead>\n",
       "    <tr style=\"text-align: right;\">\n",
       "      <th></th>\n",
       "      <th>City_ID</th>\n",
       "      <th>City</th>\n",
       "      <th>Lat</th>\n",
       "      <th>Lng</th>\n",
       "      <th>Max_Temp</th>\n",
       "      <th>Humidity</th>\n",
       "      <th>Cloudiness</th>\n",
       "      <th>Wind Speed</th>\n",
       "      <th>Current_Description</th>\n",
       "      <th>Country</th>\n",
       "      <th>Date</th>\n",
       "    </tr>\n",
       "  </thead>\n",
       "  <tbody>\n",
       "    <tr>\n",
       "      <th>0</th>\n",
       "      <td>0</td>\n",
       "      <td>Bontang</td>\n",
       "      <td>0.1333</td>\n",
       "      <td>117.5000</td>\n",
       "      <td>76.568</td>\n",
       "      <td>90</td>\n",
       "      <td>100</td>\n",
       "      <td>4.22</td>\n",
       "      <td>moderate rain</td>\n",
       "      <td>ID</td>\n",
       "      <td>2021-11-28 17:12:16</td>\n",
       "    </tr>\n",
       "    <tr>\n",
       "      <th>1</th>\n",
       "      <td>1</td>\n",
       "      <td>Bluff</td>\n",
       "      <td>-46.6000</td>\n",
       "      <td>168.3333</td>\n",
       "      <td>51.728</td>\n",
       "      <td>75</td>\n",
       "      <td>78</td>\n",
       "      <td>7.48</td>\n",
       "      <td>broken clouds</td>\n",
       "      <td>NZ</td>\n",
       "      <td>2021-11-28 17:12:16</td>\n",
       "    </tr>\n",
       "    <tr>\n",
       "      <th>2</th>\n",
       "      <td>2</td>\n",
       "      <td>Riberalta</td>\n",
       "      <td>-10.9833</td>\n",
       "      <td>-66.1000</td>\n",
       "      <td>91.256</td>\n",
       "      <td>48</td>\n",
       "      <td>100</td>\n",
       "      <td>3.58</td>\n",
       "      <td>heavy intensity rain</td>\n",
       "      <td>BO</td>\n",
       "      <td>2021-11-28 17:12:16</td>\n",
       "    </tr>\n",
       "    <tr>\n",
       "      <th>3</th>\n",
       "      <td>3</td>\n",
       "      <td>Longyearbyen</td>\n",
       "      <td>78.2186</td>\n",
       "      <td>15.6401</td>\n",
       "      <td>8.438</td>\n",
       "      <td>66</td>\n",
       "      <td>40</td>\n",
       "      <td>7.20</td>\n",
       "      <td>scattered clouds</td>\n",
       "      <td>SJ</td>\n",
       "      <td>2021-11-28 17:12:17</td>\n",
       "    </tr>\n",
       "    <tr>\n",
       "      <th>4</th>\n",
       "      <td>4</td>\n",
       "      <td>Esperance</td>\n",
       "      <td>-33.8667</td>\n",
       "      <td>121.9000</td>\n",
       "      <td>72.752</td>\n",
       "      <td>42</td>\n",
       "      <td>100</td>\n",
       "      <td>5.77</td>\n",
       "      <td>overcast clouds</td>\n",
       "      <td>AU</td>\n",
       "      <td>2021-11-28 17:12:17</td>\n",
       "    </tr>\n",
       "  </tbody>\n",
       "</table>\n",
       "</div>"
      ],
      "text/plain": [
       "   City_ID          City      Lat       Lng  Max_Temp  Humidity  Cloudiness  \\\n",
       "0        0       Bontang   0.1333  117.5000    76.568        90         100   \n",
       "1        1         Bluff -46.6000  168.3333    51.728        75          78   \n",
       "2        2     Riberalta -10.9833  -66.1000    91.256        48         100   \n",
       "3        3  Longyearbyen  78.2186   15.6401     8.438        66          40   \n",
       "4        4     Esperance -33.8667  121.9000    72.752        42         100   \n",
       "\n",
       "   Wind Speed   Current_Description Country                 Date  \n",
       "0        4.22         moderate rain      ID  2021-11-28 17:12:16  \n",
       "1        7.48         broken clouds      NZ  2021-11-28 17:12:16  \n",
       "2        3.58  heavy intensity rain      BO  2021-11-28 17:12:16  \n",
       "3        7.20      scattered clouds      SJ  2021-11-28 17:12:17  \n",
       "4        5.77       overcast clouds      AU  2021-11-28 17:12:17  "
      ]
     },
     "execution_count": 2,
     "metadata": {},
     "output_type": "execute_result"
    }
   ],
   "source": [
    "# 1. Import the WeatherPy_database.csv file. \n",
    "city_data_df = pd.read_csv(\"C:/Users/ryanj/github/World_Weather_Analysis/weather_database/weatherpy_database.csv\")\n",
    "city_data_df.head()"
   ]
  },
  {
   "cell_type": "code",
   "execution_count": 3,
   "metadata": {},
   "outputs": [
    {
     "name": "stdout",
     "output_type": "stream",
     "text": [
      "What is the maximum temperature: 85\n",
      "What is the minimum temperature: 70\n"
     ]
    }
   ],
   "source": [
    "# 2. Prompt the user to enter minimum and maximum temperature criteria \n",
    "max_temp = float(input('What is the maximum temperature: '))\n",
    "min_temp = float(input('What is the minimum temperature: '))"
   ]
  },
  {
   "cell_type": "code",
   "execution_count": 5,
   "metadata": {},
   "outputs": [],
   "source": [
    "# 3. Filter the city_data_df DataFrame using the input statements to create a new DataFrame using the loc method.\n",
    "temp_df = city_data_df.loc[(city_data_df.Max_Temp <= max_temp) & (city_data_df.Max_Temp >= min_temp)]"
   ]
  },
  {
   "cell_type": "code",
   "execution_count": 6,
   "metadata": {},
   "outputs": [
    {
     "data": {
      "text/plain": [
       "City_ID                0\n",
       "City                   0\n",
       "Lat                    0\n",
       "Lng                    0\n",
       "Max_Temp               0\n",
       "Humidity               0\n",
       "Cloudiness             0\n",
       "Wind Speed             0\n",
       "Current_Description    0\n",
       "Country                1\n",
       "Date                   0\n",
       "dtype: int64"
      ]
     },
     "execution_count": 6,
     "metadata": {},
     "output_type": "execute_result"
    }
   ],
   "source": [
    "# 4a. Determine if there are any empty rows.\n",
    "temp_df.isnull().sum()"
   ]
  },
  {
   "cell_type": "code",
   "execution_count": 7,
   "metadata": {},
   "outputs": [],
   "source": [
    "# 4b. Drop any empty rows and create a new DataFrame that doesn’t have empty rows.\n",
    "clean_df = temp_df.dropna()"
   ]
  },
  {
   "cell_type": "code",
   "execution_count": 8,
   "metadata": {},
   "outputs": [
    {
     "data": {
      "text/plain": [
       "City_ID                  int64\n",
       "City                    object\n",
       "Lat                    float64\n",
       "Lng                    float64\n",
       "Max_Temp               float64\n",
       "Humidity                 int64\n",
       "Cloudiness               int64\n",
       "Wind Speed             float64\n",
       "Current_Description     object\n",
       "Country                 object\n",
       "Date                    object\n",
       "dtype: object"
      ]
     },
     "execution_count": 8,
     "metadata": {},
     "output_type": "execute_result"
    }
   ],
   "source": [
    "clean_df.dtypes"
   ]
  },
  {
   "cell_type": "code",
   "execution_count": 9,
   "metadata": {},
   "outputs": [
    {
     "data": {
      "text/html": [
       "<div>\n",
       "<style scoped>\n",
       "    .dataframe tbody tr th:only-of-type {\n",
       "        vertical-align: middle;\n",
       "    }\n",
       "\n",
       "    .dataframe tbody tr th {\n",
       "        vertical-align: top;\n",
       "    }\n",
       "\n",
       "    .dataframe thead th {\n",
       "        text-align: right;\n",
       "    }\n",
       "</style>\n",
       "<table border=\"1\" class=\"dataframe\">\n",
       "  <thead>\n",
       "    <tr style=\"text-align: right;\">\n",
       "      <th></th>\n",
       "      <th>City</th>\n",
       "      <th>Country</th>\n",
       "      <th>Max_Temp</th>\n",
       "      <th>Current_Description</th>\n",
       "      <th>Lat</th>\n",
       "      <th>Lng</th>\n",
       "      <th>Hotel Name</th>\n",
       "    </tr>\n",
       "  </thead>\n",
       "  <tbody>\n",
       "    <tr>\n",
       "      <th>0</th>\n",
       "      <td>Bontang</td>\n",
       "      <td>ID</td>\n",
       "      <td>76.568</td>\n",
       "      <td>moderate rain</td>\n",
       "      <td>0.1333</td>\n",
       "      <td>117.5000</td>\n",
       "      <td></td>\n",
       "    </tr>\n",
       "    <tr>\n",
       "      <th>4</th>\n",
       "      <td>Esperance</td>\n",
       "      <td>AU</td>\n",
       "      <td>72.752</td>\n",
       "      <td>overcast clouds</td>\n",
       "      <td>-33.8667</td>\n",
       "      <td>121.9000</td>\n",
       "      <td></td>\n",
       "    </tr>\n",
       "    <tr>\n",
       "      <th>10</th>\n",
       "      <td>Puerto Ayora</td>\n",
       "      <td>EC</td>\n",
       "      <td>76.964</td>\n",
       "      <td>overcast clouds</td>\n",
       "      <td>-0.7393</td>\n",
       "      <td>-90.3518</td>\n",
       "      <td></td>\n",
       "    </tr>\n",
       "    <tr>\n",
       "      <th>13</th>\n",
       "      <td>Port Blair</td>\n",
       "      <td>IN</td>\n",
       "      <td>80.852</td>\n",
       "      <td>overcast clouds</td>\n",
       "      <td>11.6667</td>\n",
       "      <td>92.7500</td>\n",
       "      <td></td>\n",
       "    </tr>\n",
       "    <tr>\n",
       "      <th>15</th>\n",
       "      <td>George Town</td>\n",
       "      <td>MY</td>\n",
       "      <td>78.728</td>\n",
       "      <td>moderate rain</td>\n",
       "      <td>5.4112</td>\n",
       "      <td>100.3354</td>\n",
       "      <td></td>\n",
       "    </tr>\n",
       "    <tr>\n",
       "      <th>18</th>\n",
       "      <td>Rikitea</td>\n",
       "      <td>PF</td>\n",
       "      <td>76.388</td>\n",
       "      <td>clear sky</td>\n",
       "      <td>-23.1203</td>\n",
       "      <td>-134.9692</td>\n",
       "      <td></td>\n",
       "    </tr>\n",
       "    <tr>\n",
       "      <th>27</th>\n",
       "      <td>Arraial Do Cabo</td>\n",
       "      <td>BR</td>\n",
       "      <td>80.456</td>\n",
       "      <td>scattered clouds</td>\n",
       "      <td>-22.9661</td>\n",
       "      <td>-42.0278</td>\n",
       "      <td></td>\n",
       "    </tr>\n",
       "    <tr>\n",
       "      <th>29</th>\n",
       "      <td>Marsh Harbour</td>\n",
       "      <td>BS</td>\n",
       "      <td>72.464</td>\n",
       "      <td>broken clouds</td>\n",
       "      <td>26.5412</td>\n",
       "      <td>-77.0636</td>\n",
       "      <td></td>\n",
       "    </tr>\n",
       "    <tr>\n",
       "      <th>30</th>\n",
       "      <td>Isangel</td>\n",
       "      <td>VU</td>\n",
       "      <td>77.450</td>\n",
       "      <td>moderate rain</td>\n",
       "      <td>-19.5500</td>\n",
       "      <td>169.2667</td>\n",
       "      <td></td>\n",
       "    </tr>\n",
       "    <tr>\n",
       "      <th>33</th>\n",
       "      <td>Bogo</td>\n",
       "      <td>PH</td>\n",
       "      <td>78.656</td>\n",
       "      <td>broken clouds</td>\n",
       "      <td>11.0517</td>\n",
       "      <td>124.0055</td>\n",
       "      <td></td>\n",
       "    </tr>\n",
       "  </tbody>\n",
       "</table>\n",
       "</div>"
      ],
      "text/plain": [
       "               City Country  Max_Temp Current_Description      Lat       Lng  \\\n",
       "0           Bontang      ID    76.568       moderate rain   0.1333  117.5000   \n",
       "4         Esperance      AU    72.752     overcast clouds -33.8667  121.9000   \n",
       "10     Puerto Ayora      EC    76.964     overcast clouds  -0.7393  -90.3518   \n",
       "13       Port Blair      IN    80.852     overcast clouds  11.6667   92.7500   \n",
       "15      George Town      MY    78.728       moderate rain   5.4112  100.3354   \n",
       "18          Rikitea      PF    76.388           clear sky -23.1203 -134.9692   \n",
       "27  Arraial Do Cabo      BR    80.456    scattered clouds -22.9661  -42.0278   \n",
       "29    Marsh Harbour      BS    72.464       broken clouds  26.5412  -77.0636   \n",
       "30          Isangel      VU    77.450       moderate rain -19.5500  169.2667   \n",
       "33             Bogo      PH    78.656       broken clouds  11.0517  124.0055   \n",
       "\n",
       "   Hotel Name  \n",
       "0              \n",
       "4              \n",
       "10             \n",
       "13             \n",
       "15             \n",
       "18             \n",
       "27             \n",
       "29             \n",
       "30             \n",
       "33             "
      ]
     },
     "execution_count": 9,
     "metadata": {},
     "output_type": "execute_result"
    }
   ],
   "source": [
    "# 5a. Create DataFrame called hotel_df to store hotel names along with city, country, max temp, and coordinates.\n",
    "hotel_df = clean_df[[\"City\", \"Country\", \"Max_Temp\", \"Current_Description\", \"Lat\", \"Lng\"]].copy()\n",
    "\n",
    "# 5b. Create a new column \"Hotel Name\"\n",
    "hotel_df[\"Hotel Name\"] = \"\"\n",
    "hotel_df.head(10)"
   ]
  },
  {
   "cell_type": "code",
   "execution_count": 10,
   "metadata": {},
   "outputs": [
    {
     "name": "stdout",
     "output_type": "stream",
     "text": [
      "Hotel not found .... Skipping.\n",
      "Hotel not found .... Skipping.\n",
      "Hotel not found .... Skipping.\n",
      "Hotel not found .... Skipping.\n",
      "Hotel not found .... Skipping.\n",
      "Hotel not found .... Skipping.\n"
     ]
    }
   ],
   "source": [
    "# 6a. Set parameters to search for hotels with 5000 meters.\n",
    "params = {\n",
    "    \"radius\": 5000,\n",
    "    \"type\": \"lodging\",\n",
    "    \"key\": gmaps_api_key\n",
    "}\n",
    "\n",
    "# 6b. Iterate through the hotel DataFrame.\n",
    "for index, row in hotel_df.iterrows():\n",
    "\n",
    "    # 6c. Get latitude and longitude from DataFrame\n",
    "    lat = row['Lat']\n",
    "    lng = row['Lng']\n",
    "    \n",
    "    # 6d. Set up the base URL for the Google Directions API to get JSON data.\n",
    "    params[\"location\"] = f\"{lat},{lng}\"\n",
    "    base_url = \"https://maps.googleapis.com/maps/api/place/nearbysearch/json\"\n",
    "\n",
    "    # 6e. Make request and retrieve the JSON data from the search. \n",
    "    hotels = requests.get(base_url, params=params).json()\n",
    "    \n",
    "    # 6f. Get the first hotel from the results and store the name, if a hotel isn't found skip the city.\n",
    "    try:\n",
    "        hotel_df.loc[index, \"Hotel Name\"] = hotels[\"results\"][0][\"name\"]\n",
    "    except (IndexError):\n",
    "        print('Hotel not found .... Skipping.')"
   ]
  },
  {
   "cell_type": "code",
   "execution_count": 11,
   "metadata": {},
   "outputs": [
    {
     "data": {
      "text/plain": [
       "City                   0\n",
       "Country                0\n",
       "Max_Temp               0\n",
       "Current_Description    0\n",
       "Lat                    0\n",
       "Lng                    0\n",
       "Hotel Name             0\n",
       "dtype: int64"
      ]
     },
     "execution_count": 11,
     "metadata": {},
     "output_type": "execute_result"
    }
   ],
   "source": [
    "# 7. Drop the rows where there is no Hotel Name.\n",
    "hotel_df.isnull().sum()"
   ]
  },
  {
   "cell_type": "code",
   "execution_count": 12,
   "metadata": {},
   "outputs": [],
   "source": [
    "# 8a. Create the output File (CSV)\n",
    "clean_hotel_df = hotel_df.dropna()\n",
    "\n",
    "# 8a_pt_2. \n",
    "clean_hotel_df.Max_Temp = clean_hotel_df.Max_Temp.map(\"{:,.1f}\".format)\n",
    "\n",
    "output_data_file = \"C:/Users/ryanj/github/World_Weather_Analysis/vacation_search/hotel_data.csv\"\n",
    "# 8b. Export the City_Data into a csv\n",
    "clean_hotel_df.to_csv(output_data_file, index_label=\"City_ID\")"
   ]
  },
  {
   "cell_type": "code",
   "execution_count": 13,
   "metadata": {},
   "outputs": [],
   "source": [
    "# 9. Using the template add city name, the country code, the weather description and maximum temperature for the city.\n",
    "info_box_template = \"\"\"\n",
    "<dl>\n",
    "<dt>Hotel Name</dt><dd>{Hotel Name}</dd>\n",
    "<dt>City</dt><dd>{City}</dd>\n",
    "<dt>Country</dt><dd>{Country}</dd>\n",
    "<dt>Current Weather</dt><dd>{Current_Description} and {Max_Temp} °F</dd>\n",
    "</dl>\n",
    "\"\"\"\n",
    "\n",
    "# 10a. Get the data from each row and add it to the formatting template and store the data in a list.\n",
    "hotel_info = [info_box_template.format(**row) for index, row in clean_hotel_df.iterrows()]\n",
    "\n",
    "# 10b. Get the latitude and longitude from each row and store in a new DataFrame.\n",
    "locations = clean_hotel_df[[\"Lat\", \"Lng\"]]"
   ]
  },
  {
   "cell_type": "code",
   "execution_count": 14,
   "metadata": {},
   "outputs": [
    {
     "data": {
      "application/vnd.jupyter.widget-view+json": {
       "model_id": "4966494a58dc4cdcb3435e6358a30654",
       "version_major": 2,
       "version_minor": 0
      },
      "text/plain": [
       "Figure(layout=FigureLayout(height='420px'))"
      ]
     },
     "metadata": {},
     "output_type": "display_data"
    }
   ],
   "source": [
    "# 11a. Add a marker layer for each city to the map. \n",
    "\n",
    "fig = gmaps.figure(center=(25.0, 31.0), zoom_level=1.5)\n",
    "marker_layer = gmaps.marker_layer(locations, info_box_content=hotel_info)\n",
    "fig.add_layer(marker_layer)\n",
    "\n",
    "# 11b. Display the figure\n",
    "fig"
   ]
  },
  {
   "cell_type": "code",
   "execution_count": null,
   "metadata": {},
   "outputs": [],
   "source": []
  },
  {
   "cell_type": "code",
   "execution_count": null,
   "metadata": {},
   "outputs": [],
   "source": []
  }
 ],
 "metadata": {
  "kernelspec": {
   "display_name": "PythonData",
   "language": "python",
   "name": "pythondata"
  },
  "language_info": {
   "codemirror_mode": {
    "name": "ipython",
    "version": 3
   },
   "file_extension": ".py",
   "mimetype": "text/x-python",
   "name": "python",
   "nbconvert_exporter": "python",
   "pygments_lexer": "ipython3",
   "version": "3.8.8"
  },
  "latex_envs": {
   "LaTeX_envs_menu_present": true,
   "autoclose": false,
   "autocomplete": true,
   "bibliofile": "biblio.bib",
   "cite_by": "apalike",
   "current_citInitial": 1,
   "eqLabelWithNumbers": true,
   "eqNumInitial": 1,
   "hotkeys": {
    "equation": "Ctrl-E",
    "itemize": "Ctrl-I"
   },
   "labels_anchors": false,
   "latex_user_defs": false,
   "report_style_numbering": false,
   "user_envs_cfg": false
  }
 },
 "nbformat": 4,
 "nbformat_minor": 2
}
